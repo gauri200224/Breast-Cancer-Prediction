{
  "nbformat": 4,
  "nbformat_minor": 0,
  "metadata": {
    "colab": {
      "private_outputs": true,
      "provenance": []
    },
    "kernelspec": {
      "name": "python3",
      "display_name": "Python 3"
    },
    "language_info": {
      "name": "python"
    }
  },
  "cells": [
    {
      "cell_type": "markdown",
      "source": [
        "####Name:-Gauri Kumari\n",
        "####Roll:-1323489"
      ],
      "metadata": {
        "id": "VAdU0sL1uX6y"
      }
    },
    {
      "cell_type": "markdown",
      "source": [
        "##Project Title- \"Breast cancer classification using machine learning algorithims (Decision Tree,Random Forest, SVM, and Naive Bayes)\""
      ],
      "metadata": {
        "id": "ewKdfV1cwCtZ"
      }
    },
    {
      "cell_type": "markdown",
      "source": [
        "#### PROBLEM STATEMENT:\n",
        "\n",
        "Breast cancer is one of the most common types of cancer among women worldwide. Early detection and accurate diagnosis are crucial for effective treatment and improving survival rates. This project aims to develop and compare the performance of various machine learning algorithms to classify breast cancer tumors as either malignant or benign. The algorithms include Decision Tree, Random Forest, Support Vector Machine (SVM), Kernel SVM, and Naive Bayes.\n",
        "\n",
        "The goal is to identify the most effective model for accurate classification, providing insights into the strengths and weaknesses of each algorithm. This will assist medical practitioners in making informed decisions based on the predictions of the models."
      ],
      "metadata": {
        "id": "5KBTTtEOwQ8E"
      }
    },
    {
      "cell_type": "markdown",
      "source": [
        "##About Dataset\n",
        "##Description:\n",
        "Breast cancer is the most common cancer amongst women in the world. It accounts for 25% of all cancer cases, and affected over 2.1 Million people in 2015 alone. It starts when cells in the breast begin to grow out of control. These cells usually form tumors that can be seen via X-ray or felt as lumps in the breast area.\n",
        "\n",
        "The key challenges against it’s detection is how to classify tumors into malignant (cancerous) or benign(non cancerous). We ask you to complete the analysis of classifying these tumors using machine learning (with SVMs) and the Breast Cancer Wisconsin (Diagnostic) Dataset.\n",
        "\n",
        "Acknowledgements:\n",
        "This dataset has been referred from Kaggle.\n",
        "\n",
        "Objective:\n",
        "Understand the Dataset & cleanup (if required).\n",
        "Build classification models to predict whether the cancer type is Malignant or Benign.\n",
        "Also fine-tune the hyperparameters & compare the evaluation metrics of various classification algorithms."
      ],
      "metadata": {
        "id": "jKyKZllYwXPc"
      }
    },
    {
      "cell_type": "markdown",
      "source": [
        "#Project Methodology"
      ],
      "metadata": {
        "id": "1Q7pLeNbwgM3"
      }
    },
    {
      "cell_type": "markdown",
      "source": [
        "## Step :-1 import dependencies"
      ],
      "metadata": {
        "id": "Fwz2hiOrxUgH"
      }
    },
    {
      "cell_type": "code",
      "execution_count": null,
      "metadata": {
        "id": "JtGdeVDRuOW2"
      },
      "outputs": [],
      "source": [
        "import numpy as np\n",
        "import pandas as pd\n",
        "import matplotlib.pyplot as plt\n",
        "import seaborn as sns"
      ]
    },
    {
      "cell_type": "code",
      "source": [
        "from sklearn.model_selection import train_test_split\n",
        "from sklearn.preprocessing import StandardScaler\n",
        "from sklearn.metrics import classification_report, confusion_matrix, accuracy_score\n",
        "df=pd.read_csv(\"breast-cancer.csv\")"
      ],
      "metadata": {
        "id": "Veo0g4jJxpcJ"
      },
      "execution_count": null,
      "outputs": []
    },
    {
      "cell_type": "markdown",
      "source": [
        "##Step:-2 Reading and Loading"
      ],
      "metadata": {
        "id": "O94mObqS1pt2"
      }
    },
    {
      "cell_type": "code",
      "source": [
        "df.shape"
      ],
      "metadata": {
        "id": "XGD9NNOzyzjt"
      },
      "execution_count": null,
      "outputs": []
    },
    {
      "cell_type": "code",
      "source": [
        "df.info()"
      ],
      "metadata": {
        "id": "x_AB7Pg-y5lF"
      },
      "execution_count": null,
      "outputs": []
    },
    {
      "cell_type": "code",
      "source": [
        "df.describe()"
      ],
      "metadata": {
        "id": "qsM9dJnXy90O"
      },
      "execution_count": null,
      "outputs": []
    },
    {
      "cell_type": "code",
      "source": [
        "df.isna().sum()"
      ],
      "metadata": {
        "id": "izV4pI7uzJwf"
      },
      "execution_count": null,
      "outputs": []
    },
    {
      "cell_type": "markdown",
      "source": [
        "#conclusion:-\n",
        "in this dataset there is no any kind of byasness"
      ],
      "metadata": {
        "id": "yWdI8VkkzKmI"
      }
    },
    {
      "cell_type": "markdown",
      "source": [
        "##Step:-3 Label Encoding"
      ],
      "metadata": {
        "id": "T4MMAoB60FK1"
      }
    },
    {
      "cell_type": "code",
      "source": [
        "df[\"diagnosis\"]=df[\"diagnosis\"].map({\"M\":1,\"B\":0})\n",
        "x=df.drop(columns=[\"diagnosis\",\"id\"])\n",
        "y=df[\"diagnosis\"]"
      ],
      "metadata": {
        "id": "ExKyFivn0Sqr"
      },
      "execution_count": null,
      "outputs": []
    },
    {
      "cell_type": "markdown",
      "source": [],
      "metadata": {
        "id": "mxBIzE6a2F06"
      }
    },
    {
      "cell_type": "markdown",
      "source": [
        "##Step:-4 Split Training and Testing Data"
      ],
      "metadata": {
        "id": "CJT8p1DO2I9e"
      }
    },
    {
      "cell_type": "code",
      "source": [
        "x_train,x_test,y_train,y_test=train_test_split(x,y,test_size=0.25,random_state=10)\n",
        "sc=StandardScaler()\n",
        "x_train=sc.fit_transform(x_train)\n",
        "x_test=sc.transform(x_test)\n",
        "#x_train\n",
        "y"
      ],
      "metadata": {
        "id": "Q_AsR4Lt2Y8W"
      },
      "execution_count": null,
      "outputs": []
    },
    {
      "cell_type": "markdown",
      "source": [
        "##Step:-5 Apply Various Dataset Algorithm\n",
        "\n",
        "####Decision Tree"
      ],
      "metadata": {
        "id": "rc52OS9G3bxQ"
      }
    },
    {
      "cell_type": "code",
      "source": [
        "from sklearn.tree import DecisionTreeClassifier\n",
        "model=DecisionTreeClassifier(random_state=41)\n",
        "model.fit(x_train,y_train)\n",
        "y_pred=model.predict(x_test)\n",
        "print(\"classification_report\",classification_report(y_test,y_pred))\n",
        "print(\"confusion matrix\",confusion_matrix(y_test,y_pred))\n",
        "print(f\"accuracy{accuracy_score(y_test,y_pred)}\")"
      ],
      "metadata": {
        "id": "ONPxXpuL3t6V"
      },
      "execution_count": null,
      "outputs": []
    },
    {
      "cell_type": "markdown",
      "source": [
        "### 2.Random Forest"
      ],
      "metadata": {
        "id": "klzuyjBy8ksM"
      }
    },
    {
      "cell_type": "code",
      "source": [
        "from sklearn.ensemble import RandomForestClassifier\n",
        "model=RandomForestClassifier(random_state=101)\n",
        "model.fit(x_train,y_train)\n",
        "y_pred=model.predict(x_test)\n",
        "print(\"classification_report\",classification_report(y_test,y_pred))\n"
      ],
      "metadata": {
        "id": "BYrhUaUb8xpi"
      },
      "execution_count": null,
      "outputs": []
    },
    {
      "cell_type": "code",
      "source": [
        "from sklearn.ensemble import RandomForestClassifier\n",
        "rnd_for=RandomForestClassifier(random_state=101)\n",
        "rnd_for.fit(x_train,y_train)\n",
        "y_pred=rnd_for.predict(x_test)\n",
        "print(\"classification_report\",classification_report(y_test,y_pred))\n",
        "print(\"confusion matrix\",confusion_matrix(y_test,y_pred))\n",
        "print(f\"accuracy{accuracy_score(y_test,y_pred)}\")"
      ],
      "metadata": {
        "id": "fEmGYEBK-8ck"
      },
      "execution_count": null,
      "outputs": []
    },
    {
      "cell_type": "markdown",
      "source": [
        "##3.SVM"
      ],
      "metadata": {
        "id": "5NLWa-yc_n4n"
      }
    },
    {
      "cell_type": "code",
      "source": [
        "from sklearn.svm import SVC\n",
        "svm_mod=SVC(kernel=\"linear\",random_state=101)\n",
        "svm_mod.fit(x_train,y_train)\n",
        "y_pred=model.predict(x_test)\n",
        "print(\"classification_report\",classification_report(y_test,y_pred))\n",
        "print(\"confusion matrix\",confusion_matrix(y_test,y_pred))\n",
        "print(f\"accuracy{accuracy_score(y_test,y_pred)}\")"
      ],
      "metadata": {
        "id": "XGa7t9Re_uOk"
      },
      "execution_count": null,
      "outputs": []
    },
    {
      "cell_type": "markdown",
      "source": [
        "###4:-Naive Bayes"
      ],
      "metadata": {
        "id": "s21q4x_zCNJL"
      }
    },
    {
      "cell_type": "code",
      "source": [
        "from sklearn.naive_bayes import GaussianNB\n",
        "\n",
        "# Initialize and train the Naive Bayes model\n",
        "nb_model = GaussianNB()\n",
        "nb_model.fit(x_train, y_train)\n",
        "\n",
        "# Make predictions on the test data\n",
        "nb_predictions = nb_model.predict(x_test)\n",
        "\n",
        "# Evaluate the model\n",
        "print(\"Naive Bayes\")\n",
        "print(\"Accuracy:\", accuracy_score(y_test, nb_predictions))\n",
        "print(\"Confusion Matrix:\\n\", confusion_matrix(y_test, nb_predictions))\n",
        "print(\"Classification Report:\\n\", classification_report(y_test, nb_predictions))"
      ],
      "metadata": {
        "id": "WAbuVA92CSG3"
      },
      "execution_count": null,
      "outputs": []
    }
  ]
}